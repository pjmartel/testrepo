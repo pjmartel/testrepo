{
  "nbformat": 4,
  "nbformat_minor": 0,
  "metadata": {
    "colab": {
      "name": "Black_Holes.ipynb",
      "version": "0.3.2",
      "provenance": [],
      "collapsed_sections": [],
      "include_colab_link": true
    },
    "kernelspec": {
      "name": "python3",
      "display_name": "Python 3"
    }
  },
  "cells": [
    {
      "cell_type": "markdown",
      "metadata": {
        "id": "view-in-github",
        "colab_type": "text"
      },
      "source": [
        "<a href=\"https://colab.research.google.com/github/pjmartel/testrepo/blob/master/Black_Holes.ipynb\" target=\"_parent\"><img src=\"https://colab.research.google.com/assets/colab-badge.svg\" alt=\"Open In Colab\"/></a>"
      ]
    },
    {
      "metadata": {
        "id": "NhhD-xdgU2Ob",
        "colab_type": "text"
      },
      "cell_type": "markdown",
      "source": [
        "- John Mitchel, 1784 - l proposed that sufficiently big planetary bodies could have gravitacional fields so strongthat their *escape* velocity would exceed the speed of light.\n",
        "\n",
        "- Albert Einstein, 1915 - Publishes his *General Theorem of Relativity* where gravity is described in terms of *curved* space-time\n",
        "- Karl Scharwzschild, 1915 - Solution of the Einstein equations for a point mass and a spherical mass\n",
        "- David Finkelstein, 1958 - coins the term *event horizon*  and describes the phenomenon from the persepective of the infalling observer\n",
        "- Chandrasekar\n",
        "- Jocelyn Bell Burnell, 1967 - Discovery of the *pulsars*, rapidly rotating *neutron stars* (another \"bizarre\" kind of astronomical object)\n",
        "- Roy Kerr, 1963 - Solution of the Einstein equations for a *rotating*  blackhole\n",
        "- Ezra Newman,1965 - Solution of the Einstein equations for a rotating  and *charged* blackhole\n",
        "\n",
        "#### The no-hair theorem\n",
        "Stationar  Kerr-Neman blackholes are described just in terms of their angular momentum, mass and charge. \n",
        "\n",
        "The no-hair conjecture postulates that, once it achieves a stable condition after formation, a black hole has only three independent physical properties: mass, charge, and angular momentum; the black hole is otherwise featureless. If the conjecture is true, any two black holes that share the same values for these properties, or parameters, are indistinguishable from one another. The degree to which the conjecture is true for real black holes under the laws of modern physics, is currently an unsolved problem.\n",
        "\n",
        "\n",
        "#### Formation of Stellar Blacholes\n",
        "Star $\\rightarrow $ Red Super Giant $\\rightarrow $ Supernova $\\rightarrow \\dots \\rightarrow$  Neutron Star $\\rightarrow $ Black Hole "
      ]
    },
    {
      "metadata": {
        "id": "RmYs5CW2rCqp",
        "colab_type": "text"
      },
      "cell_type": "markdown",
      "source": [
        "While the mass of a black hole can take any positive value, the charge and angular momentum are constrained by the mass. In [[Planck units]], the total electric charge&nbsp;''Q'' and the total angular momentum&nbsp;''J'' are expected to satisfy\n",
        "\n",
        "$$Q^2+\\left ( \\tfrac{J}{M} \\right )^2\\le M^2\\, $$"
      ]
    },
    {
      "metadata": {
        "id": "K9L_N2WBxawm",
        "colab_type": "text"
      },
      "cell_type": "markdown",
      "source": [
        "Most distant black hole: ULAS J1342+0928 at 13.1 G Ly (600 million times the mass of the sun)"
      ]
    },
    {
      "metadata": {
        "id": "lE9T39qiLKwC",
        "colab_type": "code",
        "colab": {}
      },
      "cell_type": "code",
      "source": [
        "from astropy.constants import G,c,M_earth,M_sun,R_earth,R_sun\n",
        "import numpy as np\n",
        "import matplotlib.pyplot as plt\n",
        "from matplotlib import style\n",
        "style.use(\"ggplot\")"
      ],
      "execution_count": 0,
      "outputs": []
    },
    {
      "metadata": {
        "id": "N_sngHN4NdFI",
        "colab_type": "code",
        "outputId": "9ac617c1-f4c7-4602-f9ce-bd08805b0008",
        "colab": {
          "base_uri": "https://localhost:8080/",
          "height": 35
        }
      },
      "cell_type": "code",
      "source": [
        "G.name,G.value, G.unit"
      ],
      "execution_count": 0,
      "outputs": [
        {
          "output_type": "execute_result",
          "data": {
            "text/plain": [
              "('Gravitational constant', 6.67408e-11, Unit(\"m3 / (kg s2)\"))"
            ]
          },
          "metadata": {
            "tags": []
          },
          "execution_count": 3
        }
      ]
    },
    {
      "metadata": {
        "id": "kS4CfKbCNUPw",
        "colab_type": "code",
        "outputId": "672c106b-7f0b-4f22-bddc-34006415aacb",
        "colab": {
          "base_uri": "https://localhost:8080/",
          "height": 121
        }
      },
      "cell_type": "code",
      "source": [
        "for a in [G,c,M_earth,M_sun,R_earth,R_sun]:\n",
        "  print(a.name,a.value,a.unit)"
      ],
      "execution_count": 0,
      "outputs": [
        {
          "output_type": "stream",
          "text": [
            "Gravitational constant 6.67408e-11 m3 / (kg s2)\n",
            "Speed of light in vacuum 299792458.0 m / s\n",
            "Earth mass 5.972364730419773e+24 kg\n",
            "Solar mass 1.9884754153381438e+30 kg\n",
            "Nominal Earth equatorial radius 6378100.0 m\n",
            "Nominal solar radius 695700000.0 m\n"
          ],
          "name": "stdout"
        }
      ]
    },
    {
      "metadata": {
        "id": "KlQUSF6lOpJr",
        "colab_type": "text"
      },
      "cell_type": "markdown",
      "source": [
        "Escape velocity:\n",
        "\n",
        "$$ v_e = \\sqrt{\\frac{2GM}{r}}$$"
      ]
    },
    {
      "metadata": {
        "id": "Cb0_4GqgMYaF",
        "colab_type": "code",
        "colab": {}
      },
      "cell_type": "code",
      "source": [
        "G = G.value\n",
        "Me = M_earth.value\n",
        "\n",
        "Ms = M_sun.value\n",
        "Re = R_earth.value\n",
        "Re = 6371100.0 # Mean radius\n",
        "Rs = R_sun.value\n",
        "c = c.value\n"
      ],
      "execution_count": 0,
      "outputs": []
    },
    {
      "metadata": {
        "id": "sPWN8vsH_0Pf",
        "colab_type": "code",
        "colab": {}
      },
      "cell_type": "code",
      "source": [
        "Dn ="
      ],
      "execution_count": 0,
      "outputs": []
    },
    {
      "metadata": {
        "id": "PtwFjzb5LNSj",
        "colab_type": "code",
        "colab": {}
      },
      "cell_type": "code",
      "source": [
        "def escape_v(M,r,G):\n",
        "  from math import sqrt\n",
        "  return sqrt(2*G*M/r)"
      ],
      "execution_count": 0,
      "outputs": []
    },
    {
      "metadata": {
        "id": "wrswXXMSHb3j",
        "colab_type": "code",
        "outputId": "304e6ae0-9616-4de4-96f3-404d3e8f4a3d",
        "colab": {
          "base_uri": "https://localhost:8080/",
          "height": 35
        }
      },
      "cell_type": "code",
      "source": [
        "Ee = escape_v(Me,Re,G)\n",
        "Es = escape_v(Ms,Rs,G)\n",
        "Ee,Es"
      ],
      "execution_count": 0,
      "outputs": [
        {
          "output_type": "execute_result",
          "data": {
            "text/plain": [
              "(11186.047316418151, 617674.7002752088)"
            ]
          },
          "metadata": {
            "tags": []
          },
          "execution_count": 7
        }
      ]
    },
    {
      "metadata": {
        "id": "mbHtiv8_QB7w",
        "colab_type": "code",
        "outputId": "2873c149-c8bc-4d2c-973a-a8a1b7439bfb",
        "colab": {
          "base_uri": "https://localhost:8080/",
          "height": 35
        }
      },
      "cell_type": "code",
      "source": [
        "Es/Ee"
      ],
      "execution_count": 0,
      "outputs": [
        {
          "output_type": "execute_result",
          "data": {
            "text/plain": [
              "55.21831642609147"
            ]
          },
          "metadata": {
            "tags": []
          },
          "execution_count": 8
        }
      ]
    },
    {
      "metadata": {
        "id": "j5EquDSPHnRd",
        "colab_type": "code",
        "outputId": "6996375e-3eda-4e01-d99e-e69494020851",
        "colab": {
          "base_uri": "https://localhost:8080/",
          "height": 35
        }
      },
      "cell_type": "code",
      "source": [
        "De = Me /(4*np.pi*Re**3/3)\n",
        "Ds = Ms /(4*np.pi*Rs**3/3)\n",
        "Dn = 2.3e17 # Nuclear density\n",
        "De, Ds"
      ],
      "execution_count": 0,
      "outputs": [
        {
          "output_type": "execute_result",
          "data": {
            "text/plain": [
              "(5513.33583404647, 1409.8262953659105)"
            ]
          },
          "metadata": {
            "tags": []
          },
          "execution_count": 9
        }
      ]
    },
    {
      "metadata": {
        "id": "ouvuuB6SYRSU",
        "colab_type": "text"
      },
      "cell_type": "markdown",
      "source": [
        "Escape velocity for a body of densit $\\rho$ and radius $R$:\n",
        "\n",
        "$$v_e = r \\sqrt{\\frac{8}{3} \\pi G \\rho}$$ "
      ]
    },
    {
      "metadata": {
        "id": "WqFnGgSPKz2F",
        "colab_type": "code",
        "colab": {}
      },
      "cell_type": "code",
      "source": [
        "def escape_vd(rho,r,G):\n",
        "  return np.sqrt(8*np.pi*r*r*rho*G/3)"
      ],
      "execution_count": 0,
      "outputs": []
    },
    {
      "metadata": {
        "id": "54Hr6TAXKanO",
        "colab_type": "code",
        "outputId": "642493b8-06f4-4b0b-ee81-e22b310bd68b",
        "colab": {
          "base_uri": "https://localhost:8080/",
          "height": 35
        }
      },
      "cell_type": "code",
      "source": [
        "escape_vd(De,Re,G)"
      ],
      "execution_count": 0,
      "outputs": [
        {
          "output_type": "execute_result",
          "data": {
            "text/plain": [
              "11186.047316418151"
            ]
          },
          "metadata": {
            "tags": []
          },
          "execution_count": 11
        }
      ]
    },
    {
      "metadata": {
        "id": "XJE2d2z3Uz5j",
        "colab_type": "code",
        "outputId": "f322e982-d121-4689-f03a-60bfb5bcca72",
        "colab": {
          "base_uri": "https://localhost:8080/",
          "height": 35
        }
      },
      "cell_type": "code",
      "source": [
        "escape_vd(Ds,Rs,G)"
      ],
      "execution_count": 0,
      "outputs": [
        {
          "output_type": "execute_result",
          "data": {
            "text/plain": [
              "617674.7002752087"
            ]
          },
          "metadata": {
            "tags": []
          },
          "execution_count": 12
        }
      ]
    },
    {
      "metadata": {
        "id": "y2uNBfQma7ON",
        "colab_type": "code",
        "outputId": "55c562d7-e96b-4196-a84f-3d0e55b7498a",
        "colab": {
          "base_uri": "https://localhost:8080/",
          "height": 320
        }
      },
      "cell_type": "code",
      "source": [
        "r = np.arange(0,600*Rs,Rs)\n",
        "v = escape_vd(Ds,r,G)\n",
        "r = r / Rs\n",
        "v = v / c\n",
        "plt.plot(r,v)\n",
        "plt.xlabel(\"Radius (in $R_{sun}$ units)\")\n",
        "plt.ylabel(\"Escape velocity (in $c$ units)\")\n",
        "plt.title(\"Escape velocity for object with Sun density\")\n",
        "plt.hlines(1.0,0,600,linestyles=\"dashed\")"
      ],
      "execution_count": 0,
      "outputs": [
        {
          "output_type": "execute_result",
          "data": {
            "text/plain": [
              "<matplotlib.collections.LineCollection at 0x7f75b4db5e80>"
            ]
          },
          "metadata": {
            "tags": []
          },
          "execution_count": 34
        },
        {
          "output_type": "display_data",
          "data": {
            "image/png": "[encoded data removed]",
            "text/plain": [
              "<Figure size 432x288 with 1 Axes>"
            ]
          },
          "metadata": {
            "tags": []
          }
        }
      ]
    },
    {
      "metadata": {
        "id": "0mQT2AHIhF58",
        "colab_type": "text"
      },
      "cell_type": "markdown",
      "source": [
        "Einstein Field equations:\n",
        "\n",
        "$$G_{\\mu \\nu} + \\Lambda g_{\\mu \\nu} = \\frac{8 \\pi G}{c^4} T_{\\mu \\nu}$$\n",
        "\n",
        "can be solved for a spherically symmetric distribution of mass (Scharwzschild's solution), leading to the *Schwarzschild's metric*:\n",
        "\n",
        "\n",
        "$$ds^2=\\left(1-\\frac{2Gm}{c^2 r}\\right)^{-1}dr^2+r^2(d \\theta^2 +\\sin^2 \\theta d \\phi^2)-c^2 \\left(1-\\frac{2Gm}{c^2 r}\\right)dt^2$$\n",
        "\n",
        "Note that:\n",
        "\n",
        "$$\\frac{2Gm}{c^2}=r_s$$\n",
        "\n",
        "is the definition of the **Schwarzschild radius**for an object of mass $m$, so the Schwarzschild metric may be rewritten in the alternative form:\n",
        "\n",
        "$$ds^2=\\left(1-\\frac{r_s}{r}\\right)^{-1}dr^2+r^2(d\\theta^2 +\\sin^2\\theta d\\phi^2)-c^2\\left(1-\\frac{r_s}{r}\\right)dt^2$$\n",
        "\n",
        "\n",
        "Written in this way, this solutions has singularities at $r = 0$ and $r=r_s$.The singularity at $r=r_s$ is called *non-physical* because it can be removed by an appropriate change of coordinates - this is equivalent to saying that the possibility of crossing the event horizon is dependent on the reference frame. The singularity at $r=0$, on the other end, is a *physical singularity* and cannot be removed. When $r$ approaches $0$, space stretches to infinity and time freezes to a halt. \n",
        "\n",
        "In flat space-time, ,this reduces to the *Minkowsky metric*:\n",
        "\n",
        "$$ds^2 = -c^2 dt^2 + dx^2 + dy^2 + dz^2$$ \n"
      ]
    },
    {
      "metadata": {
        "id": "j5deGQlm4CC0",
        "colab_type": "text"
      },
      "cell_type": "markdown",
      "source": [
        "<br>\n",
        "Schwarzschild Radius:\n",
        "\n",
        "$$ r_s = \\frac{2 G M}{c^2} $$\n",
        "\n",
        "For an object of constant density $\\rho$, the Schwarzschild radius grows linearly with the volume:\n",
        "\n",
        "$$ r_s = \\frac{2 G \\rho V}{c^2} $$\n",
        "\n",
        "while the object radius grows with the *cubic root* of the volume:\n",
        "\n",
        "$$ r = \\sqrt[3]{\\frac{3}{4}\\frac{V}{\\pi}} = \\sqrt[3]{\\frac{3}{4\\pi}}\\sqrt[3]{V}$$\n",
        "\n",
        "<br>\n",
        "The Schwarzschild's radius grows faster with volume than the object's radius, so it will eventually engulf the object, turning it into a black hole!\n",
        "<br><br>"
      ]
    },
    {
      "metadata": {
        "id": "TMxtReK7gExp",
        "colab_type": "code",
        "colab": {}
      },
      "cell_type": "code",
      "source": [
        "# Schwarzschild's radius\n",
        "def sch_radius(M,G,c):\n",
        "    return 2 * G * M /(c**2)\n",
        "  \n",
        " "
      ],
      "execution_count": 0,
      "outputs": []
    },
    {
      "metadata": {
        "id": "S7jFXzwu41l7",
        "colab_type": "code",
        "outputId": "d1a16e06-1317-4c82-d319-1f181b367d74",
        "colab": {
          "base_uri": "https://localhost:8080/",
          "height": 35
        }
      },
      "cell_type": "code",
      "source": [
        "sch_radius(Me,G,c) # Schwarzschild Radius of the Earth (8.9 mm)"
      ],
      "execution_count": 0,
      "outputs": [
        {
          "output_type": "execute_result",
          "data": {
            "text/plain": [
              "0.008870055148059894"
            ]
          },
          "metadata": {
            "tags": []
          },
          "execution_count": 41
        }
      ]
    },
    {
      "metadata": {
        "id": "6sVgjnxk47rW",
        "colab_type": "code",
        "outputId": "a77fc2c0-8cd1-44d4-f476-0cd89b883a8c",
        "colab": {
          "base_uri": "https://localhost:8080/",
          "height": 35
        }
      },
      "cell_type": "code",
      "source": [
        "sch_radius(Ms,G,c)  # Schwarzschild Radius of the Sun (2.95 Km)"
      ],
      "execution_count": 0,
      "outputs": [
        {
          "output_type": "execute_result",
          "data": {
            "text/plain": [
              "2953.2500761002498"
            ]
          },
          "metadata": {
            "tags": []
          },
          "execution_count": 42
        }
      ]
    },
    {
      "metadata": {
        "id": "Vedca5zobUmo",
        "colab_type": "text"
      },
      "cell_type": "markdown",
      "source": [
        "<br>\n",
        "Let's check how much mass an object with the density of water much absorb before its radius is overtaken by its *Schawrrzschild* radius.\n",
        "\n",
        "First, let's calculate the radius of the object (water densith is 1000 Kg/m³):"
      ]
    },
    {
      "metadata": {
        "id": "1Jcg49bk5TMn",
        "colab_type": "code",
        "colab": {}
      },
      "cell_type": "code",
      "source": [
        "R_massive = np.sqrt(c**2/(2*G*1.33*np.pi*1000))"
      ],
      "execution_count": 0,
      "outputs": []
    },
    {
      "metadata": {
        "id": "5ReTVFa5EDYw",
        "colab_type": "code",
        "outputId": "800e2005-5311-479c-cb51-09ff6492d054",
        "colab": {
          "base_uri": "https://localhost:8080/",
          "height": 35
        }
      },
      "cell_type": "code",
      "source": [
        "R_massive  # 400 milion Km"
      ],
      "execution_count": 0,
      "outputs": [
        {
          "output_type": "execute_result",
          "data": {
            "text/plain": [
              "401429462779.6336"
            ]
          },
          "metadata": {
            "tags": []
          },
          "execution_count": 47
        }
      ]
    },
    {
      "metadata": {
        "id": "3TU-2WRyb-ri",
        "colab_type": "text"
      },
      "cell_type": "markdown",
      "source": [
        "Now let's calculate the mass, based on the density and radius:"
      ]
    },
    {
      "metadata": {
        "id": "SamR91BYEJcO",
        "colab_type": "code",
        "colab": {}
      },
      "cell_type": "code",
      "source": [
        "M_massive = 1.33*np.pi*R_massive**3*1000"
      ],
      "execution_count": 0,
      "outputs": []
    },
    {
      "metadata": {
        "id": "X1MLsRYkclO8",
        "colab_type": "text"
      },
      "cell_type": "markdown",
      "source": [
        "And now convert to  in Solar Masses:"
      ]
    },
    {
      "metadata": {
        "id": "w1p8M4PnFOVt",
        "colab_type": "code",
        "outputId": "33c6cf36-4b2b-424b-e6f0-53575a4e4e1e",
        "colab": {
          "base_uri": "https://localhost:8080/",
          "height": 34
        }
      },
      "cell_type": "code",
      "source": [
        "M_massive/Ms"
      ],
      "execution_count": 0,
      "outputs": [
        {
          "output_type": "execute_result",
          "data": {
            "text/plain": [
              "135928029.26791728"
            ]
          },
          "metadata": {
            "tags": []
          },
          "execution_count": 54
        }
      ]
    },
    {
      "metadata": {
        "id": "goK-Cwakc5qu",
        "colab_type": "text"
      },
      "cell_type": "markdown",
      "source": [
        "When it becomes a black hole, the object has 135 million times the Sun's mass !!"
      ]
    },
    {
      "metadata": {
        "id": "xS0LyYKzbRAP",
        "colab_type": "text"
      },
      "cell_type": "markdown",
      "source": [
        ""
      ]
    },
    {
      "metadata": {
        "id": "7p8ksYJ4FRFP",
        "colab_type": "code",
        "colab": {}
      },
      "cell_type": "code",
      "source": [
        "angle = 2*np.pi/(360*3600*1e+6)"
      ],
      "execution_count": 0,
      "outputs": []
    },
    {
      "metadata": {
        "id": "IfVfPiDAsVuv",
        "colab_type": "code",
        "outputId": "4261ef6f-60c1-4e87-fec3-572836a68b22",
        "colab": {
          "base_uri": "https://localhost:8080/",
          "height": 34
        }
      },
      "cell_type": "code",
      "source": [
        "angle"
      ],
      "execution_count": 0,
      "outputs": [
        {
          "output_type": "execute_result",
          "data": {
            "text/plain": [
              "4.84813681109536e-12"
            ]
          },
          "metadata": {
            "tags": []
          },
          "execution_count": 75
        }
      ]
    },
    {
      "metadata": {
        "id": "dev_D1p6suSN",
        "colab_type": "code",
        "outputId": "fd814159-263e-4a08-d6bc-fd7b3abc8b81",
        "colab": {
          "base_uri": "https://localhost:8080/",
          "height": 34
        }
      },
      "cell_type": "code",
      "source": [
        "diameter = 2*26000*365*24*3600*c*np.tan(angle/2)\n",
        "diameter"
      ],
      "execution_count": 0,
      "outputs": [
        {
          "output_type": "execute_result",
          "data": {
            "text/plain": [
              "1191723558.2507343"
            ]
          },
          "metadata": {
            "tags": []
          },
          "execution_count": 76
        }
      ]
    },
    {
      "metadata": {
        "id": "eJsRFKkNtkL7",
        "colab_type": "code",
        "outputId": "9c8bd0db-95c1-4f38-c092-7b323fac8973",
        "colab": {
          "base_uri": "https://localhost:8080/",
          "height": 34
        }
      },
      "cell_type": "code",
      "source": [
        "diameter"
      ],
      "execution_count": 0,
      "outputs": [
        {
          "output_type": "execute_result",
          "data": {
            "text/plain": [
              "214510240485.1322"
            ]
          },
          "metadata": {
            "tags": []
          },
          "execution_count": 68
        }
      ]
    },
    {
      "metadata": {
        "id": "V-mxY5Rnt35E",
        "colab_type": "code",
        "outputId": "9f89338d-e9ef-4c28-8d88-67b45f1d5f45",
        "colab": {
          "base_uri": "https://localhost:8080/",
          "height": 34
        }
      },
      "cell_type": "code",
      "source": [
        "120*150000000"
      ],
      "execution_count": 0,
      "outputs": [
        {
          "output_type": "execute_result",
          "data": {
            "text/plain": [
              "18000000000"
            ]
          },
          "metadata": {
            "tags": []
          },
          "execution_count": 85
        }
      ]
    },
    {
      "metadata": {
        "id": "Ibg-73Njt6Mh",
        "colab_type": "code",
        "colab": {}
      },
      "cell_type": "code",
      "source": [
        "angle = 2*np.pi/(360*3600)"
      ],
      "execution_count": 0,
      "outputs": []
    },
    {
      "metadata": {
        "id": "aLPQX3PKxTFJ",
        "colab_type": "code",
        "outputId": "5089e4a0-b735-4bab-e59f-571748df077a",
        "colab": {
          "base_uri": "https://localhost:8080/",
          "height": 34
        }
      },
      "cell_type": "code",
      "source": [
        "2*149597870700*np.tan(angle/2)"
      ],
      "execution_count": 0,
      "outputs": [
        {
          "output_type": "execute_result",
          "data": {
            "text/plain": [
              "725270.9438035745"
            ]
          },
          "metadata": {
            "tags": []
          },
          "execution_count": 81
        }
      ]
    },
    {
      "metadata": {
        "id": "YpN2z6G9xkMv",
        "colab_type": "code",
        "colab": {}
      },
      "cell_type": "code",
      "source": [
        "18 000 000 000"
      ],
      "execution_count": 0,
      "outputs": []
    },
    {
      "metadata": {
        "id": "3u9KdQiNsrIv",
        "colab_type": "code",
        "outputId": "9ad081da-3196-4050-c353-1c5aa44cae2f",
        "colab": {
          "base_uri": "https://localhost:8080/",
          "height": 34
        }
      },
      "cell_type": "code",
      "source": [
        "1/np.tan(2*np.pi/(360*3600))"
      ],
      "execution_count": 0,
      "outputs": [
        {
          "output_type": "execute_result",
          "data": {
            "text/plain": [
              "206264.80624548031"
            ]
          },
          "metadata": {
            "tags": []
          },
          "execution_count": 5
        }
      ]
    },
    {
      "metadata": {
        "id": "7131Y8mWt2n2",
        "colab_type": "code",
        "outputId": "8d67f05c-74a4-486b-9d74-a88b6cea658e",
        "colab": {
          "base_uri": "https://localhost:8080/",
          "height": 34
        }
      },
      "cell_type": "code",
      "source": [
        "1/_"
      ],
      "execution_count": 0,
      "outputs": [
        {
          "output_type": "execute_result",
          "data": {
            "text/plain": [
              "206264.80624548031"
            ]
          },
          "metadata": {
            "tags": []
          },
          "execution_count": 4
        }
      ]
    },
    {
      "metadata": {
        "id": "TA2o6dWpuOh4",
        "colab_type": "code",
        "outputId": "789a9a1f-d7fa-45c0-81e2-993b763f829d",
        "colab": {
          "base_uri": "https://localhost:8080/",
          "height": 34
        }
      },
      "cell_type": "code",
      "source": [
        "648000/np.pi"
      ],
      "execution_count": 0,
      "outputs": [
        {
          "output_type": "execute_result",
          "data": {
            "text/plain": [
              "206264.80624709636"
            ]
          },
          "metadata": {
            "tags": []
          },
          "execution_count": 6
        }
      ]
    },
    {
      "metadata": {
        "id": "Kyom_S20utSz",
        "colab_type": "code",
        "outputId": "8fba9cd9-e6bc-4719-9973-de98194242ad",
        "colab": {
          "base_uri": "https://localhost:8080/",
          "height": 34
        }
      },
      "cell_type": "code",
      "source": [
        "360*3600/2\n"
      ],
      "execution_count": 0,
      "outputs": [
        {
          "output_type": "execute_result",
          "data": {
            "text/plain": [
              "648000.0"
            ]
          },
          "metadata": {
            "tags": []
          },
          "execution_count": 8
        }
      ]
    },
    {
      "metadata": {
        "id": "yPdX5mKYu681",
        "colab_type": "code",
        "outputId": "b2ac2e77-8dac-48f4-cff6-0f7f082214ae",
        "colab": {
          "base_uri": "https://localhost:8080/",
          "height": 34
        }
      },
      "cell_type": "code",
      "source": [
        "np.tan(np.pi/648000)"
      ],
      "execution_count": 0,
      "outputs": [
        {
          "output_type": "execute_result",
          "data": {
            "text/plain": [
              "4.848136811133344e-06"
            ]
          },
          "metadata": {
            "tags": []
          },
          "execution_count": 10
        }
      ]
    },
    {
      "metadata": {
        "id": "4wugdM-rvNdO",
        "colab_type": "code",
        "outputId": "1bb7fc60-42b9-42b9-de3d-fbfd8a9bb316",
        "colab": {
          "base_uri": "https://localhost:8080/",
          "height": 34
        }
      },
      "cell_type": "code",
      "source": [
        "np.pi/648000"
      ],
      "execution_count": 0,
      "outputs": [
        {
          "output_type": "execute_result",
          "data": {
            "text/plain": [
              "4.84813681109536e-06"
            ]
          },
          "metadata": {
            "tags": []
          },
          "execution_count": 12
        }
      ]
    },
    {
      "metadata": {
        "id": "EP4Ya91hvpfZ",
        "colab_type": "code",
        "colab": {}
      },
      "cell_type": "code",
      "source": [
        ""
      ],
      "execution_count": 0,
      "outputs": []
    }
  ]
}